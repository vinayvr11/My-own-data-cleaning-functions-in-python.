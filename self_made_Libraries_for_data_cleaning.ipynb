{
 "cells": [
  {
   "cell_type": "code",
   "execution_count": 1,
   "metadata": {},
   "outputs": [],
   "source": [
    "# Data cleaning-\n",
    "#Function used to remove the null value as (other) in place of NULL or NONE values.\n",
    "#This function takes two parameters first whole(data), second (feature needs to be cleaned)\n",
    "\n",
    "def remove_null(dat,feature):\n",
    "    l = list(dat[feature.isnull()].index.tolist())\n",
    "    features = list(feature)\n",
    "    for n in l:\n",
    "        features[n] = 'other'\n",
    "    return features"
   ]
  },
  {
   "cell_type": "code",
   "execution_count": null,
   "metadata": {},
   "outputs": [],
   "source": [
    "#Function to convert the columns into dataframe for concatenation into original_data-\n",
    "'''In this function first parameter is used for alloting the name to the column\n",
    "    and second is the real_column which needs to be converted'''\n",
    "\n",
    "def convert(column_name,real_column):\n",
    "    take = pd.Series(real_column)\n",
    "    df = pd.DataFrame({column_name:take})\n",
    "    return df"
   ]
  },
  {
   "cell_type": "code",
   "execution_count": null,
   "metadata": {},
   "outputs": [],
   "source": [
    "#Function to fill the null integer  values by using maximum occurence of number-\n",
    "\n",
    "def fill_null(change):\n",
    "    arr = np.array(change).reshape(-1,1)\n",
    "    model = SimpleImputer(strategy='most_frequent')\n",
    "    model.fit(arr)\n",
    "    chan = model.transform(arr)\n",
    "    \n",
    "    return chan\n"
   ]
  }
 ],
 "metadata": {
  "kernelspec": {
   "display_name": "Python 3",
   "language": "python",
   "name": "python3"
  },
  "language_info": {
   "codemirror_mode": {
    "name": "ipython",
    "version": 3
   },
   "file_extension": ".py",
   "mimetype": "text/x-python",
   "name": "python",
   "nbconvert_exporter": "python",
   "pygments_lexer": "ipython3",
   "version": "3.6.8"
  }
 },
 "nbformat": 4,
 "nbformat_minor": 2
}
